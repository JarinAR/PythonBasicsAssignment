{
  "nbformat": 4,
  "nbformat_minor": 0,
  "metadata": {
    "colab": {
      "provenance": []
    },
    "kernelspec": {
      "name": "python3",
      "display_name": "Python 3"
    },
    "language_info": {
      "name": "python"
    }
  },
  "cells": [
    {
      "cell_type": "code",
      "execution_count": null,
      "metadata": {
        "id": "jX-wn42msnEi"
      },
      "outputs": [],
      "source": []
    },
    {
      "cell_type": "markdown",
      "source": [
        "**Python Basics Questions :**"
      ],
      "metadata": {
        "id": "hZLMvLWNsyWP"
      }
    },
    {
      "cell_type": "markdown",
      "source": [
        "Q1.**What is Python, and why is it popular?**"
      ],
      "metadata": {
        "id": "H7yorV-7tLnW"
      }
    },
    {
      "cell_type": "markdown",
      "source": [
        "Ans: Python is a high-level, easy-to-learn programming language known for its simple syntax, readability, and versatility.It was released in 1991 by Guido van Rossum, it is widely used in web development, data science, automation, and machine learning. Python's key features include its interpreted nature, dynamic typing, extensive standard library, and strong community support. It is popular because it's beginner-friendly and integrates well with other technologies. Its use in a broad range of fields and open-source nature has made it one of the most popular programming languages today.\n",
        "\n",
        "\n",
        "\n"
      ],
      "metadata": {
        "id": "bAF0TH2ytbFO"
      }
    },
    {
      "cell_type": "markdown",
      "source": [
        "**Q2.What is an interpreter in Python?**"
      ],
      "metadata": {
        "id": "wvBMIKfwuDGx"
      }
    },
    {
      "cell_type": "markdown",
      "source": [
        "Ans: An interpreter in Python is a program that reads and executes Python code line by line. It translates the code into an intermediate form (bytecode) and runs it immediately, which makes Python flexible and easy to debug, though generally slower than compiled languages."
      ],
      "metadata": {
        "id": "Pd3ukHkcuYwX"
      }
    },
    {
      "cell_type": "markdown",
      "source": [
        "**Q3.What are pre-defined keywords in Python?**"
      ],
      "metadata": {
        "id": "kH5dpV1QupMH"
      }
    },
    {
      "cell_type": "markdown",
      "source": [
        "Ans:Pre-defined keywords in Python are reserved words that have special meanings and cannot be used as variable names. They define the syntax and structure of the language. Examples include if, else, for, while, import, and def. These keywords are part of the Python language and are essential for writing code."
      ],
      "metadata": {
        "id": "H8RQya9MwonE"
      }
    },
    {
      "cell_type": "markdown",
      "source": [
        "**Q4.Can keywords be used as variable names?**"
      ],
      "metadata": {
        "id": "JsIQmEVc0cKj"
      }
    },
    {
      "cell_type": "markdown",
      "source": [
        "Ans: No, keywords cannot be used as variable names. Keywords are reserved words in a programming language with a specific meaning and function, such as `if`, `else`, `for`, `while`, and others. Using them as variable names would cause syntax errors."
      ],
      "metadata": {
        "id": "INghpf4u001U"
      }
    },
    {
      "cell_type": "markdown",
      "source": [
        "**Q5.What is mutability in Python?**"
      ],
      "metadata": {
        "id": "LV_ZNkqj1CQl"
      }
    },
    {
      "cell_type": "markdown",
      "source": [
        "Ans: Mutability in Python refers to whether an object can be changed after it is created.\n",
        "\n",
        "- **Mutable** objects (e.g., lists, dictionaries) can be modified.\n",
        "- **Immutable** objects (e.g., strings, tuples) cannot be modified and require creating a new object to change their value."
      ],
      "metadata": {
        "id": "eTNuMwUK1XIW"
      }
    },
    {
      "cell_type": "markdown",
      "source": [
        "**Q6.Why are lists mutable, but tuples are immutable?**"
      ],
      "metadata": {
        "id": "frjS0-GT1f9Y"
      }
    },
    {
      "cell_type": "markdown",
      "source": [
        "Ans: Lists are mutable and tuples are immutable in Python due to their design and intended use cases:\n",
        "\n",
        "- **Lists** are mutable because they are designed to allow for flexible, dynamic data structures where elements can be added, removed, or changed. This is useful for scenarios where the data needs to be modified frequently.\n",
        "\n",
        "- **Tuples** are immutable because they are intended to represent fixed collections of data that should not be altered. Immutability makes tuples more reliable for use cases where data integrity is important, and it also allows them to be used as keys in dictionaries (since their contents can't change).\n",
        "\n"
      ],
      "metadata": {
        "id": "d3cvqpQ51qOQ"
      }
    },
    {
      "cell_type": "markdown",
      "source": [
        "**Q7.What is the difference between “==” and “is” operators in Python?**"
      ],
      "metadata": {
        "id": "iitYwhWl2Bqp"
      }
    },
    {
      "cell_type": "markdown",
      "source": [
        "Ans: '==' checks if the values of two objects are equal. It compares the content or data inside the objects."
      ],
      "metadata": {
        "id": "QBaEXONh2ZUf"
      }
    },
    {
      "cell_type": "code",
      "source": [
        "a = [1, 2, 3]\n",
        "b = [1, 2, 3]\n",
        "print(a == b)"
      ],
      "metadata": {
        "colab": {
          "base_uri": "https://localhost:8080/"
        },
        "id": "h_OoyWOC2g2l",
        "outputId": "93fd834e-8395-4ffe-f6d4-f80067194519"
      },
      "execution_count": null,
      "outputs": [
        {
          "output_type": "stream",
          "name": "stdout",
          "text": [
            "True\n"
          ]
        }
      ]
    },
    {
      "cell_type": "markdown",
      "source": [
        "'is' checks if two objects are the same object in memory (i.e., if they refer to the exact same location)."
      ],
      "metadata": {
        "id": "zhZMIpo12sF6"
      }
    },
    {
      "cell_type": "code",
      "source": [
        "a = [1, 2, 3]\n",
        "b = [1, 2, 3]\n",
        "print(a is b)\n"
      ],
      "metadata": {
        "colab": {
          "base_uri": "https://localhost:8080/"
        },
        "id": "MqdOeIf320yx",
        "outputId": "e58327d0-b578-400b-b60d-c9b0b4745e64"
      },
      "execution_count": null,
      "outputs": [
        {
          "output_type": "stream",
          "name": "stdout",
          "text": [
            "False\n"
          ]
        }
      ]
    },
    {
      "cell_type": "markdown",
      "source": [
        "**Q8.What are logical operators in Python?**"
      ],
      "metadata": {
        "id": "ChiY6Dge3P9b"
      }
    },
    {
      "cell_type": "markdown",
      "source": [
        "Ans: In Python, logical operators are used to combine conditional statements. The three main logical operators are,\n",
        "\n",
        "\n",
        "\n",
        "**and**: Returns True if both conditions are true."
      ],
      "metadata": {
        "id": "coOTWLwl3WSE"
      }
    },
    {
      "cell_type": "code",
      "source": [
        "a = True\n",
        "b = False\n",
        "print(a and b)\n"
      ],
      "metadata": {
        "colab": {
          "base_uri": "https://localhost:8080/"
        },
        "id": "yN0Ylow23m9o",
        "outputId": "1eed8c25-2e71-4fab-ef59-962c798b2894"
      },
      "execution_count": null,
      "outputs": [
        {
          "output_type": "stream",
          "name": "stdout",
          "text": [
            "False\n"
          ]
        }
      ]
    },
    {
      "cell_type": "markdown",
      "source": [
        "**or**: Returns True if at least one condition is true."
      ],
      "metadata": {
        "id": "SOZcY3Gz3_8I"
      }
    },
    {
      "cell_type": "code",
      "source": [
        "a = True\n",
        "b = False\n",
        "print(a or b)\n"
      ],
      "metadata": {
        "colab": {
          "base_uri": "https://localhost:8080/"
        },
        "id": "Zxa5BrB44GP6",
        "outputId": "075fd290-f6fc-49b8-ad12-fd533636e67e"
      },
      "execution_count": null,
      "outputs": [
        {
          "output_type": "stream",
          "name": "stdout",
          "text": [
            "True\n"
          ]
        }
      ]
    },
    {
      "cell_type": "markdown",
      "source": [
        "**not**: Reverses the result, returns True if the condition is false, and False if the condition is true."
      ],
      "metadata": {
        "id": "WuDYOgSR4NhH"
      }
    },
    {
      "cell_type": "code",
      "source": [
        "a = True\n",
        "print(not a)"
      ],
      "metadata": {
        "colab": {
          "base_uri": "https://localhost:8080/"
        },
        "id": "9FkPcrPU4YZr",
        "outputId": "5961cab2-33c0-41f5-d205-030ed868aef4"
      },
      "execution_count": null,
      "outputs": [
        {
          "output_type": "stream",
          "name": "stdout",
          "text": [
            "False\n"
          ]
        }
      ]
    },
    {
      "cell_type": "markdown",
      "source": [
        "**Q9.What is type casting in Python?**"
      ],
      "metadata": {
        "id": "gJ8vnY8r4xE8"
      }
    },
    {
      "cell_type": "markdown",
      "source": [
        "Ans:  **Type casting** in Python is converting one data type to another. It can be:\n",
        "\n",
        "- **Implicit**: Python automatically converts types (e.g., `int` to `float`).\n",
        "- **Explicit**: You manually convert types using functions like `int()`, `float()`, or `str()`."
      ],
      "metadata": {
        "id": "5f7DB26j5Jx6"
      }
    },
    {
      "cell_type": "markdown",
      "source": [
        "**Q10.What is the difference between implicit and explicit type casting?**"
      ],
      "metadata": {
        "id": "BK5rw4qO5Slw"
      }
    },
    {
      "cell_type": "markdown",
      "source": [
        "Ans: The difference between **implicit** and **explicit** type casting in Python is:\n",
        "\n",
        "- **Implicit type casting**: Python automatically converts a lower data type to a higher data type, such as from `int` to `float`, without the programmer needing to do anything.\n",
        "  - Example: `a = 5` (int) and `b = 2.5` (float), when added, Python automatically converts `a` to a float.\n",
        "\n",
        "- **Explicit type casting**: The programmer manually converts one data type to another using functions like `int()`, `float()`, or `str()`.\n",
        "  - Example: `a = 5.7` (float), `b = int(a)` converts `a` to an integer.\n",
        "\n",
        "In short, **implicit** casting is automatic, while **explicit** casting requires manual conversion."
      ],
      "metadata": {
        "id": "WoSEowMH5Z3b"
      }
    },
    {
      "cell_type": "markdown",
      "source": [
        "**Q11.What is the purpose of conditional statements in Python?**"
      ],
      "metadata": {
        "id": "C5Gnml0U5m_i"
      }
    },
    {
      "cell_type": "markdown",
      "source": [
        "Ans: The purpose of conditional statements in Python is to allow the program to make decisions based on certain conditions. They help control the flow of execution by executing specific blocks of code only when certain conditions are true.\n",
        "\n",
        "The main types of conditional statements in Python are:\n",
        "\n",
        "**if:** Executes a block of code if the condition is true.\n",
        "\n",
        "**elif:** (short for \"else if\") checks another condition if the previous if condition is false.\n",
        "\n",
        "**else:** Executes a block of code if none of the previous conditions are true."
      ],
      "metadata": {
        "id": "QCMEs3Io5tDx"
      }
    },
    {
      "cell_type": "code",
      "source": [
        "x = 10\n",
        "if x > 5:\n",
        "    print(\"x is greater than 5\")\n",
        "elif x == 5:\n",
        "    print(\"x is equal to 5\")\n",
        "else:\n",
        "    print(\"x is less than 5\")\n"
      ],
      "metadata": {
        "colab": {
          "base_uri": "https://localhost:8080/"
        },
        "id": "XJpluBSy6HZH",
        "outputId": "65fce187-e1f0-4f7c-c6f4-7ea50a4ec658"
      },
      "execution_count": null,
      "outputs": [
        {
          "output_type": "stream",
          "name": "stdout",
          "text": [
            "x is greater than 5\n"
          ]
        }
      ]
    },
    {
      "cell_type": "markdown",
      "source": [
        "**Q12.How does the elif statement work?**"
      ],
      "metadata": {
        "id": "aIsYjSPXLYzi"
      }
    },
    {
      "cell_type": "markdown",
      "source": [
        "Ans: The elif statement checks additional conditions after an if statement. If the if condition is False, it checks the elif conditions one by one. If a condition is True, it runs the corresponding block of code. If none of the conditions are True, the else block (if present) runs."
      ],
      "metadata": {
        "id": "cP7yKJ4fLo7k"
      }
    },
    {
      "cell_type": "code",
      "source": [
        "x = 10\n",
        "\n",
        "if x > 15:\n",
        "    print(\"Greater\")\n",
        "elif x == 10:\n",
        "    print(\"Equal to 10\")\n",
        "else:\n",
        "    print(\"Other\")\n"
      ],
      "metadata": {
        "colab": {
          "base_uri": "https://localhost:8080/"
        },
        "id": "yiDtWm03L2tT",
        "outputId": "02c421a2-5b51-40a4-d97f-473ad33ea901"
      },
      "execution_count": null,
      "outputs": [
        {
          "output_type": "stream",
          "name": "stdout",
          "text": [
            "Equal to 10\n"
          ]
        }
      ]
    },
    {
      "cell_type": "markdown",
      "source": [
        "**Q13.What is the difference between for and while loops?**"
      ],
      "metadata": {
        "id": "WFFFRo4u6CsX"
      }
    },
    {
      "cell_type": "markdown",
      "source": [
        "Ans:  for loop: Used to iterate over a sequence (e.g., list, range, string) for a known number of times"
      ],
      "metadata": {
        "id": "okjKMY4k6eFa"
      }
    },
    {
      "cell_type": "code",
      "source": [
        "for i in range(5):  # Loops 5 times\n",
        "    print(i)\n"
      ],
      "metadata": {
        "colab": {
          "base_uri": "https://localhost:8080/"
        },
        "id": "2Mz9D1016wNF",
        "outputId": "b30bb720-538e-4cda-8be9-7da9e9a74757"
      },
      "execution_count": null,
      "outputs": [
        {
          "output_type": "stream",
          "name": "stdout",
          "text": [
            "0\n",
            "1\n",
            "2\n",
            "3\n",
            "4\n"
          ]
        }
      ]
    },
    {
      "cell_type": "markdown",
      "source": [
        "while loop: Repeats as long as a condition is true. It is useful when the number of iterations is not known in advance."
      ],
      "metadata": {
        "id": "JpVTWdDR6024"
      }
    },
    {
      "cell_type": "code",
      "source": [
        "i = 0\n",
        "while i < 5:  # Continues until condition is false\n",
        "    print(i)\n",
        "    i += 1\n"
      ],
      "metadata": {
        "colab": {
          "base_uri": "https://localhost:8080/"
        },
        "id": "hBRNUK3_66WC",
        "outputId": "dcc55235-4d88-4362-dfe2-20008718aecb"
      },
      "execution_count": null,
      "outputs": [
        {
          "output_type": "stream",
          "name": "stdout",
          "text": [
            "0\n",
            "1\n",
            "2\n",
            "3\n",
            "4\n"
          ]
        }
      ]
    },
    {
      "cell_type": "markdown",
      "source": [
        "**Q14.Describe a scenario where a while loop is more suitable than a for loop.**"
      ],
      "metadata": {
        "id": "0qh7mya7KYNs"
      }
    },
    {
      "cell_type": "markdown",
      "source": [
        "Ans: A while loop is more suitable when you don't know in advance how many iterations are needed, and you want to keep looping until a certain condition is met.\n",
        "\n",
        "Example: If you want to keep asking a user for input until they type \"exit\":"
      ],
      "metadata": {
        "id": "7ndGOF5fMRvB"
      }
    },
    {
      "cell_type": "code",
      "source": [
        "user_input = \"\"\n",
        "while user_input != \"exit\":\n",
        "    user_input = input(\"Type something (or 'exit' to stop): \")\n"
      ],
      "metadata": {
        "colab": {
          "base_uri": "https://localhost:8080/"
        },
        "id": "3v-H5bMjMUAs",
        "outputId": "6fdd3831-0e0c-45a7-b755-78053d715da6"
      },
      "execution_count": null,
      "outputs": [
        {
          "name": "stdout",
          "output_type": "stream",
          "text": [
            "Type something (or 'exit' to stop): exit\n"
          ]
        }
      ]
    },
    {
      "cell_type": "markdown",
      "source": [
        "In this case, the number of iterations is unknown, and the loop continues until the user types \"exit\". A while loop is perfect for this scenario."
      ],
      "metadata": {
        "id": "wFBPLXrOMCqN"
      }
    },
    {
      "cell_type": "markdown",
      "source": [
        "**Practical Questions**"
      ],
      "metadata": {
        "id": "RBbdjf2rMk3t"
      }
    },
    {
      "cell_type": "markdown",
      "source": [
        "**Q1.Write a Python program to print \"Hello, World!\".**"
      ],
      "metadata": {
        "id": "Y5zNPcSrMxOJ"
      }
    },
    {
      "cell_type": "code",
      "source": [
        "print(\"Hello, World!\")\n"
      ],
      "metadata": {
        "colab": {
          "base_uri": "https://localhost:8080/"
        },
        "id": "fBowIHJZNN0-",
        "outputId": "28f61111-276a-41ca-bc72-1b1aa3e5eedb"
      },
      "execution_count": null,
      "outputs": [
        {
          "output_type": "stream",
          "name": "stdout",
          "text": [
            "Hello, World!\n"
          ]
        }
      ]
    },
    {
      "cell_type": "markdown",
      "source": [
        "**Q2.Write a Python program that displays your name and age.**"
      ],
      "metadata": {
        "id": "duyQOGaANR73"
      }
    },
    {
      "cell_type": "code",
      "source": [
        "# Program to display name and age\n",
        "name = \"Jarin Anan\"\n",
        "age = 25\n",
        "\n",
        "print(\"Name:\", name)\n",
        "print(\"Age:\", age)\n"
      ],
      "metadata": {
        "colab": {
          "base_uri": "https://localhost:8080/"
        },
        "id": "gT2B3KJNNbFS",
        "outputId": "d5dd21bc-e22c-48d2-bc0e-af775fdc426d"
      },
      "execution_count": null,
      "outputs": [
        {
          "output_type": "stream",
          "name": "stdout",
          "text": [
            "Name: Jarin Anan\n",
            "Age: 25\n"
          ]
        }
      ]
    },
    {
      "cell_type": "markdown",
      "source": [
        "**Q3.Write code to print all the pre-defined keywords in Python using the keyword library.**"
      ],
      "metadata": {
        "id": "iL3K4rZjNuFf"
      }
    },
    {
      "cell_type": "code",
      "source": [
        "import keyword\n",
        "\n",
        "print(\"List of Python Keywords:\")\n",
        "for kw in keyword.kwlist:\n",
        "    print(kw)\n"
      ],
      "metadata": {
        "colab": {
          "base_uri": "https://localhost:8080/"
        },
        "id": "TiVUR9TLN4Ha",
        "outputId": "2782ec00-d9c9-4e19-da5f-4e6b9d8af4e1"
      },
      "execution_count": null,
      "outputs": [
        {
          "output_type": "stream",
          "name": "stdout",
          "text": [
            "List of Python Keywords:\n",
            "False\n",
            "None\n",
            "True\n",
            "and\n",
            "as\n",
            "assert\n",
            "async\n",
            "await\n",
            "break\n",
            "class\n",
            "continue\n",
            "def\n",
            "del\n",
            "elif\n",
            "else\n",
            "except\n",
            "finally\n",
            "for\n",
            "from\n",
            "global\n",
            "if\n",
            "import\n",
            "in\n",
            "is\n",
            "lambda\n",
            "nonlocal\n",
            "not\n",
            "or\n",
            "pass\n",
            "raise\n",
            "return\n",
            "try\n",
            "while\n",
            "with\n",
            "yield\n"
          ]
        }
      ]
    },
    {
      "cell_type": "markdown",
      "source": [
        "**Q4.Write a program that checks if a given word is a Python keyword.**"
      ],
      "metadata": {
        "id": "_RJbS8dsOXB3"
      }
    },
    {
      "cell_type": "code",
      "source": [
        "import keyword\n",
        "\n",
        "def is_keyword(word):\n",
        "    if keyword.iskeyword(word):\n",
        "        print(f\"'{word}' is a Python keyword.\")\n",
        "    else:\n",
        "        print(f\"'{word}' is not a Python keyword.\")\n",
        "\n",
        "\n",
        "word = input(\"Enter a word: \")\n",
        "is_keyword(word)\n"
      ],
      "metadata": {
        "colab": {
          "base_uri": "https://localhost:8080/"
        },
        "id": "j-SWe7THOf4d",
        "outputId": "64c1f583-06a2-4af8-db0d-0b4e940ec0f5"
      },
      "execution_count": null,
      "outputs": [
        {
          "output_type": "stream",
          "name": "stdout",
          "text": [
            "Enter a word: Hello\n",
            "'Hello' is not a Python keyword.\n"
          ]
        }
      ]
    },
    {
      "cell_type": "markdown",
      "source": [
        "**Q5.Create a list and tuple in Python,and demonstrate how attempting to change an element works differently for each.**"
      ],
      "metadata": {
        "id": "ZXpIopKtO5SY"
      }
    },
    {
      "cell_type": "code",
      "source": [
        "\n",
        "my_list = [10, 20, 30, 40]\n",
        "my_tuple = (10, 20, 30, 40)\n",
        "\n",
        "print(\"Original List:\", my_list)\n",
        "my_list[2] = 99\n",
        "print(\"Modified List:\", my_list)\n",
        "\n",
        "\n",
        "print(\"\\nOriginal Tuple:\", my_tuple)\n",
        "try:\n",
        "    my_tuple[2] = 99\n",
        "except TypeError as e:\n",
        "    print(f\"Error modifying tuple: {e}\")\n"
      ],
      "metadata": {
        "colab": {
          "base_uri": "https://localhost:8080/"
        },
        "id": "xTxoBOf_PXDO",
        "outputId": "c9d00bdd-17c6-443b-94e8-e2f69b55ff3e"
      },
      "execution_count": null,
      "outputs": [
        {
          "output_type": "stream",
          "name": "stdout",
          "text": [
            "Original List: [10, 20, 30, 40]\n",
            "Modified List: [10, 20, 99, 40]\n",
            "\n",
            "Original Tuple: (10, 20, 30, 40)\n",
            "Error modifying tuple: 'tuple' object does not support item assignment\n"
          ]
        }
      ]
    },
    {
      "cell_type": "markdown",
      "source": [
        "**Q6.Write a function to demonstrate the behavior of mutable and immutable arguments.**"
      ],
      "metadata": {
        "id": "QTDHvMngP05T"
      }
    },
    {
      "cell_type": "code",
      "source": [
        "def demonstrate_mutability(immutable_arg, mutable_arg):\n",
        "    print(\"Before modification:\")\n",
        "    print(f\"Immutable argument (int): {immutable_arg}\")\n",
        "    print(f\"Mutable argument (list): {mutable_arg}\")\n",
        "\n",
        "\n",
        "    immutable_arg += 10\n",
        "    mutable_arg.append(100)\n",
        "    print(\"\\nAfter modification:\")\n",
        "    print(f\"Immutable argument (int): {immutable_arg}\")\n",
        "    print(f\"Mutable argument (list): {mutable_arg}\")\n",
        "\n",
        "immutable_value = 5\n",
        "mutable_value = [1, 2, 3]\n",
        "\n",
        "demonstrate_mutability(immutable_value, mutable_value)\n",
        "\n",
        "\n",
        "print(\"\\nOutside function:\")\n",
        "print(f\"Original immutable value: {immutable_value}\")\n",
        "print(f\"Original mutable value: {mutable_value}\")\n"
      ],
      "metadata": {
        "colab": {
          "base_uri": "https://localhost:8080/"
        },
        "id": "I07s9p1bP7JR",
        "outputId": "3c647180-d925-49ae-8cf6-620d8a5d80fd"
      },
      "execution_count": null,
      "outputs": [
        {
          "output_type": "stream",
          "name": "stdout",
          "text": [
            "Before modification:\n",
            "Immutable argument (int): 5\n",
            "Mutable argument (list): [1, 2, 3]\n",
            "\n",
            "After modification:\n",
            "Immutable argument (int): 15\n",
            "Mutable argument (list): [1, 2, 3, 100]\n",
            "\n",
            "Outside function:\n",
            "Original immutable value: 5\n",
            "Original mutable value: [1, 2, 3, 100]\n"
          ]
        }
      ]
    },
    {
      "cell_type": "markdown",
      "source": [
        "**Q7.Write a function to demonstrate the behavior of mutable and immutable arguments.**"
      ],
      "metadata": {
        "id": "dSAkfP1QQnoV"
      }
    },
    {
      "cell_type": "code",
      "source": [
        "def demonstrate_mutability(immutable_arg, mutable_arg):\n",
        "    print(\"Before modification:\")\n",
        "    print(f\"Immutable argument (int): {immutable_arg}\")\n",
        "    print(f\"Mutable argument (list): {mutable_arg}\")\n",
        "\n",
        "\n",
        "    immutable_arg += 10\n",
        "    mutable_arg.append(100)\n",
        "    print(\"\\nAfter modification:\")\n",
        "    print(f\"Immutable argument (int): {immutable_arg}\")\n",
        "    print(f\"Mutable argument (list): {mutable_arg}\")\n",
        "\n",
        "immutable_value = 5\n",
        "mutable_value = [1, 2, 3]\n",
        "\n",
        "demonstrate_mutability(immutable_value, mutable_value)\n",
        "\n",
        "\n",
        "print(\"\\nOutside function:\")\n",
        "print(f\"Original immutable value: {immutable_value}\")\n",
        "print(f\"Original mutable value: {mutable_value}\")\n"
      ],
      "metadata": {
        "colab": {
          "base_uri": "https://localhost:8080/"
        },
        "id": "dnIDfAirQrw0",
        "outputId": "df4a9296-3d8e-4a1e-9b3a-bcbe5c851649"
      },
      "execution_count": null,
      "outputs": [
        {
          "output_type": "stream",
          "name": "stdout",
          "text": [
            "Before modification:\n",
            "Immutable argument (int): 5\n",
            "Mutable argument (list): [1, 2, 3]\n",
            "\n",
            "After modification:\n",
            "Immutable argument (int): 15\n",
            "Mutable argument (list): [1, 2, 3, 100]\n",
            "\n",
            "Outside function:\n",
            "Original immutable value: 5\n",
            "Original mutable value: [1, 2, 3, 100]\n"
          ]
        }
      ]
    },
    {
      "cell_type": "markdown",
      "source": [
        "**Q8.Write a program to demonstrate the use of logical operators.**"
      ],
      "metadata": {
        "id": "ZXg1elceRCMJ"
      }
    },
    {
      "cell_type": "code",
      "source": [
        "\n",
        "x = 10\n",
        "y = 20\n",
        "z = 30\n",
        "\n",
        "# Using 'and' operator (True if both conditions are true)\n",
        "if x < y and y < z:\n",
        "    print(\"Both conditions are True (x < y and y < z)\")\n",
        "\n",
        "# Using 'or' operator (True if at least one condition is true)\n",
        "if x > y or y < z:\n",
        "    print(\"At least one condition is True (x > y or y < z)\")\n",
        "\n",
        "# Using 'not' operator (True if the condition is false)\n",
        "if not x > y:\n",
        "    print(\"The condition 'x > y' is False\")\n",
        "\n",
        "# Combining multiple logical operators\n",
        "if x < y and (y < z or z > 100):\n",
        "    print(\"This condition uses multiple logical operators\")\n",
        "\n"
      ],
      "metadata": {
        "colab": {
          "base_uri": "https://localhost:8080/"
        },
        "id": "aJsMx-DMRPTO",
        "outputId": "b6e399e0-06c6-4456-da62-9484f7950204"
      },
      "execution_count": null,
      "outputs": [
        {
          "output_type": "stream",
          "name": "stdout",
          "text": [
            "Both conditions are True (x < y and y < z)\n",
            "At least one condition is True (x > y or y < z)\n",
            "The condition 'x > y' is False\n",
            "This condition uses multiple logical operators\n"
          ]
        }
      ]
    },
    {
      "cell_type": "markdown",
      "source": [
        "**Q9.Write a Python program to convert user input from string to integer, float, and boolean types.**"
      ],
      "metadata": {
        "id": "KvfG304bRfX9"
      }
    },
    {
      "cell_type": "code",
      "source": [
        "# Get user input\n",
        "user_input = input(\"Enter a value: \")\n",
        "\n",
        "# Convert to integer\n",
        "try:\n",
        "    print(f\"Integer: {int(user_input)}\")\n",
        "except ValueError:\n",
        "    print(\"Invalid integer.\")\n",
        "\n",
        "# Convert to float\n",
        "try:\n",
        "    print(f\"Float: {float(user_input)}\")\n",
        "except ValueError:\n",
        "    print(\"Invalid float.\")\n",
        "\n",
        "# Convert to boolean\n",
        "print(f\"Boolean: {bool(user_input)}\")\n"
      ],
      "metadata": {
        "colab": {
          "base_uri": "https://localhost:8080/"
        },
        "id": "lqtLhHRwRkmH",
        "outputId": "74d97861-099d-41d2-c8f0-ad3692008447"
      },
      "execution_count": null,
      "outputs": [
        {
          "output_type": "stream",
          "name": "stdout",
          "text": [
            "Enter a value: 10\n",
            "Integer: 10\n",
            "Float: 10.0\n",
            "Boolean: True\n"
          ]
        }
      ]
    },
    {
      "cell_type": "markdown",
      "source": [
        "**Q10.Write code to demonstrate type casting with list elements.**"
      ],
      "metadata": {
        "id": "K9arm6DMSOdR"
      }
    },
    {
      "cell_type": "code",
      "source": [
        "\n",
        "my_list = ['10', '20.5', 'True', '100']\n",
        "\n",
        "# Convert to integer, float, and boolean\n",
        "int_list = [int(x) if x.isdigit() else x for x in my_list]\n",
        "float_list = [float(x) if '.' in x else x for x in my_list]\n",
        "bool_list = [x == 'True' for x in my_list]\n",
        "\n",
        "# Print the results\n",
        "print(\"Original List:\", my_list)\n",
        "print(\"List as Integers:\", int_list)\n",
        "print(\"List as Floats:\", float_list)\n",
        "print(\"List as Booleans:\", bool_list)\n"
      ],
      "metadata": {
        "colab": {
          "base_uri": "https://localhost:8080/"
        },
        "id": "7_-WEx3-SWk2",
        "outputId": "f7e654a1-9b72-48f2-91ca-8a73213fab8a"
      },
      "execution_count": null,
      "outputs": [
        {
          "output_type": "stream",
          "name": "stdout",
          "text": [
            "Original List: ['10', '20.5', 'True', '100']\n",
            "List as Integers: [10, '20.5', 'True', 100]\n",
            "List as Floats: ['10', 20.5, 'True', '100']\n",
            "List as Booleans: [False, False, True, False]\n"
          ]
        }
      ]
    },
    {
      "cell_type": "markdown",
      "source": [
        "**Q11.Write a program that checks if a number is positive, negative, or zero.**"
      ],
      "metadata": {
        "id": "ymwVn1V5SvdY"
      }
    },
    {
      "cell_type": "code",
      "source": [
        "# Get user input\n",
        "num = float(input(\"Enter a number: \"))\n",
        "\n",
        "# Check if the number is positive, negative, or zero\n",
        "if num > 0:\n",
        "    print(\"The number is positive.\")\n",
        "elif num < 0:\n",
        "    print(\"The number is negative.\")\n",
        "else:\n",
        "    print(\"The number is zero.\")\n"
      ],
      "metadata": {
        "colab": {
          "base_uri": "https://localhost:8080/"
        },
        "id": "bF8NvdU0S1zf",
        "outputId": "c842639a-b78f-465f-fabc-fa1f0e7b3696"
      },
      "execution_count": null,
      "outputs": [
        {
          "output_type": "stream",
          "name": "stdout",
          "text": [
            "Enter a number: 10\n",
            "The number is positive.\n"
          ]
        }
      ]
    },
    {
      "cell_type": "code",
      "source": [
        "# Get user input\n",
        "num = float(input(\"Enter a number: \"))\n",
        "\n",
        "# Check if the number is positive, negative, or zero\n",
        "if num > 0:\n",
        "    print(\"The number is positive.\")\n",
        "elif num < 0:\n",
        "    print(\"The number is negative.\")\n",
        "else:\n",
        "    print(\"The number is zero.\")\n"
      ],
      "metadata": {
        "colab": {
          "base_uri": "https://localhost:8080/"
        },
        "id": "9Noh2jwQTJ8r",
        "outputId": "16f0c56b-84f4-463e-87c6-ff71d47633eb"
      },
      "execution_count": null,
      "outputs": [
        {
          "output_type": "stream",
          "name": "stdout",
          "text": [
            "Enter a number: -5\n",
            "The number is negative.\n"
          ]
        }
      ]
    },
    {
      "cell_type": "code",
      "source": [
        "# Get user input\n",
        "num = float(input(\"Enter a number: \"))\n",
        "\n",
        "# Check if the number is positive, negative, or zero\n",
        "if num > 0:\n",
        "    print(\"The number is positive.\")\n",
        "elif num < 0:\n",
        "    print(\"The number is negative.\")\n",
        "else:\n",
        "    print(\"The number is zero.\")\n"
      ],
      "metadata": {
        "colab": {
          "base_uri": "https://localhost:8080/"
        },
        "id": "IM26UXSxTRrQ",
        "outputId": "e39c1b70-6ed8-43ac-d079-53ae8b9a8ab0"
      },
      "execution_count": null,
      "outputs": [
        {
          "output_type": "stream",
          "name": "stdout",
          "text": [
            "Enter a number: 0\n",
            "The number is zero.\n"
          ]
        }
      ]
    },
    {
      "cell_type": "markdown",
      "source": [
        "**Q12. Write a for loop to print numbers from 1 to 10.**"
      ],
      "metadata": {
        "id": "tLET5xw4TYla"
      }
    },
    {
      "cell_type": "code",
      "source": [
        "# Print numbers from 1 to 10 using a for loop\n",
        "for num in range(1, 11):\n",
        "    print(num)\n"
      ],
      "metadata": {
        "colab": {
          "base_uri": "https://localhost:8080/"
        },
        "id": "obBpmlKhUANW",
        "outputId": "94e73c92-7f74-4879-fd56-58b1f81c6184"
      },
      "execution_count": 20,
      "outputs": [
        {
          "output_type": "stream",
          "name": "stdout",
          "text": [
            "1\n",
            "2\n",
            "3\n",
            "4\n",
            "5\n",
            "6\n",
            "7\n",
            "8\n",
            "9\n",
            "10\n"
          ]
        }
      ]
    },
    {
      "cell_type": "markdown",
      "source": [
        "**Q13.Write a Python program to find the sum of all even numbers between 1 and 50.**"
      ],
      "metadata": {
        "id": "1wrKlUOaUX9y"
      }
    },
    {
      "cell_type": "code",
      "source": [
        "# Initialize sum to 0\n",
        "sum_of_evens = 0\n",
        "\n",
        "# Loop through numbers from 1 to 50\n",
        "for num in range(2, 51, 2):  # Start from 2 and increment by 2 to get even numbers\n",
        "    sum_of_evens += num\n",
        "\n",
        "# Print the sum of even numbers\n",
        "print(\"Sum of all even numbers between 1 and 50:\", sum_of_evens)\n"
      ],
      "metadata": {
        "colab": {
          "base_uri": "https://localhost:8080/"
        },
        "id": "4yVGl2cTU7aO",
        "outputId": "d87e257c-75e1-46e2-ce04-0f0768d63206"
      },
      "execution_count": 21,
      "outputs": [
        {
          "output_type": "stream",
          "name": "stdout",
          "text": [
            "Sum of all even numbers between 1 and 50: 650\n"
          ]
        }
      ]
    },
    {
      "cell_type": "markdown",
      "source": [
        "**Q14.Write a program to reverse a string using a while loop.**"
      ],
      "metadata": {
        "id": "6p8wyYt9VI0r"
      }
    },
    {
      "cell_type": "code",
      "source": [
        "\n",
        "input_string = \"Hello World\"\n",
        "\n",
        "reversed_string = \"\"\n",
        "index = len(input_string) - 1\n",
        "\n",
        "while index >= 0:\n",
        "    reversed_string += input_string[index]\n",
        "    index -= 1\n",
        "\n",
        "print(reversed_string)\n"
      ],
      "metadata": {
        "colab": {
          "base_uri": "https://localhost:8080/"
        },
        "id": "Pp7ObhSsVPkL",
        "outputId": "27216d81-fb3c-4110-84ae-a5010d563976"
      },
      "execution_count": 22,
      "outputs": [
        {
          "output_type": "stream",
          "name": "stdout",
          "text": [
            "dlroW olleH\n"
          ]
        }
      ]
    },
    {
      "cell_type": "markdown",
      "source": [
        "**Q15.Write a Python program to calculate the factorial of a number provided by the user using a while loop.**"
      ],
      "metadata": {
        "id": "rWr2lB2FVj3n"
      }
    },
    {
      "cell_type": "code",
      "source": [
        "\n",
        "num = int(input(\"Enter a number: \"))\n",
        "\n",
        "factorial = 1\n",
        "i = 1\n",
        "\n",
        "while i <= num:\n",
        "    factorial *= i\n",
        "    i += 1\n",
        "\n",
        "print(f\"Factorial of {num} is {factorial}\")\n"
      ],
      "metadata": {
        "colab": {
          "base_uri": "https://localhost:8080/"
        },
        "id": "jXMtpJ4OV2S_",
        "outputId": "464a81e3-9679-43b3-d5fd-70b10567e7b9"
      },
      "execution_count": 23,
      "outputs": [
        {
          "output_type": "stream",
          "name": "stdout",
          "text": [
            "Enter a number: 5\n",
            "Factorial of 5 is 120\n"
          ]
        }
      ]
    }
  ]
}